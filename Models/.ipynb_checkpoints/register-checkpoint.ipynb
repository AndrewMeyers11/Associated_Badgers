{
 "cells": [
  {
   "cell_type": "code",
   "execution_count": 1,
   "id": "b4df47e7",
   "metadata": {},
   "outputs": [
    {
     "name": "stderr",
     "output_type": "stream",
     "text": [
      "C:\\Users\\purkol\\anaconda3\\envs\\getting_started_snowpark_python\\lib\\site-packages\\scipy\\__init__.py:146: UserWarning: A NumPy version >=1.16.5 and <1.23.0 is required for this version of SciPy (detected version 1.23.1\n",
      "  warnings.warn(f\"A NumPy version >={np_minversion} and <{np_maxversion}\"\n"
     ]
    }
   ],
   "source": [
    "'''\n",
    "requirements for demo\n",
    "'''\n",
    "from snowflake.snowpark.session import Session\n",
    "from snowflake.snowpark import functions as F\n",
    "from snowflake.snowpark.types import *\n",
    "import pandas as pd\n",
    "from sklearn import linear_model\n",
    "import matplotlib.pyplot as plt\n",
    "from snowflake.snowpark.functions import udf\n",
    "import datetime as dt\n",
    "import numpy as np\n",
    "import seaborn as sns\n",
    "import dill\n",
    "import random\n",
    "\n",
    "# to divide train and test set\n",
    "from sklearn.model_selection import train_test_split\n",
    "\n",
    "# feature scaling\n",
    "from sklearn.preprocessing import MinMaxScaler\n",
    "\n",
    "\n",
    "from config import snowflake_conn_prop\n",
    "from snowflake.snowpark import version\n",
    "\n",
    "sour_table_name='XURAN_TABLE'\n",
    "dest_table_name='TABLE_ORIG'\n",
    "\n",
    "def initialization():\n",
    "    session = Session.builder.configs(snowflake_conn_prop).create()\n",
    "    session.sql('use schema Team1_xuran;').collect()\n",
    "    session.sql('drop table if exists Xuran_table;').collect()\n",
    "    session.sql('create table Xuran_table as select * from \"UWM_HOUSEHOLDING\".\"HOUSEHOLDING\".\"GAGE_TEST\";').collect()\n",
    "    session.sql('drop table if exists table_orig;').collect()\n",
    "    session.sql('create table table_orig as select * from xuran_table;').collect()\n",
    "    session.sql('alter table table_orig rename column FIRST_NAME to P1_FIRSTNAME;').collect()\n",
    "    session.sql('alter table table_orig rename column MIDDLE_NAME to P1_MIDDLENAME;').collect()\n",
    "    session.sql('alter table table_orig rename column LAST_NAME to P1_LASTNAME;').collect()\n",
    "    session.sql('alter table table_orig rename column ADDRESS_LINE_1 to P1_ADDRESS_LINE_1;').collect()\n",
    "    session.sql('alter table table_orig rename column ADDRESS_LINE_2 to P1_ADDRESS_LINE_2;').collect()\n",
    "    session.sql('alter table table_orig rename column ADDRESS_LINE_3 to P1_ADDRESS_LINE_3;').collect()\n",
    "    session.sql('alter table table_orig rename column CITY to P1_CITY;').collect()\n",
    "    session.sql('alter table table_orig rename column STATE to P1_STATE;').collect()\n",
    "    session.sql('alter table table_orig rename column ZIP to P1_ZIP;').collect()\n",
    "    session.sql('alter table table_orig rename column CONTACT_ID to P1_CONTACT_ID;').collect()\n",
    "    session.sql('alter table table_orig drop column FULL_NAME;').collect()\n",
    "    session.sql('alter table table_orig drop column HOUSEHOLD_ID;').collect()\n",
    "    session.sql('alter table table_orig drop column HOUSEHOLDED_IND;').collect()\n",
    "    \n",
    "\n",
    "def encode(s: str):\n",
    "        if \"None\" in s:\n",
    "            s = s.replace(\"None\", \" \")\n",
    "        elif re.search(r'Ave[.]*$', s):\n",
    "            s = s.replace(\"Ave\", \"Avenue\")\n",
    "        elif re.search(r'Av[.]*$', s):\n",
    "            s = s.replace(\"Av\", \"Avenue\")\n",
    "        elif re.search(r'St[.]*$', s):\n",
    "            s = s.replace(\"St\", \"Street\")\n",
    "        elif re.search(r'Rd[.]*$', s):\n",
    "            s = s.replace(\"Rd\", \"Road\")\n",
    "        elif re.search(r'Dr[.]*$', s):\n",
    "            s = s.replace('Dr', \"Drive\")\n",
    "        return s\n",
    "\n",
    "'''\n",
    "register a new user with given info\n",
    "use per-trained model\n",
    "'''\n",
    "def register(firstName,lastName,addressLine1,addressLine2,addressLine3,city,state,zipCode):\n",
    "    session = Session.builder.configs(snowflake_conn_prop).create()\n",
    "    print(session.sql('select current_warehouse(), current_database(), current_schema()').collect())\n",
    "    raw = session.table(dest_table_name)\n",
    "    data = raw.toPandas().drop(columns=['P1_CONTACT_ID','P1_FIRSTNAME', 'P1_MIDDLENAME',\n",
    "                       'P1_LASTNAME','P1_ADDRESS_LINE_2',], axis=5)\n",
    "    data['P2_ADDRESS_LINE_1']=[addressLine1 for i in range(len(data))]\n",
    "    data['P2_ADDRESS_LINE_3']=[addressLine3 for i in range(len(data))]\n",
    "    data['P2_CITY']=[city for i in range(len(data))]\n",
    "    data['P2_STATE']=[state for i in range(len(data))]\n",
    "    data['P2_ZIP']=[zipCode for i in range(len(data))]\n",
    "    data[\"P2_ADDRESS_LINE_1\"]= data.apply(lambda row : encode(str(row[\"P2_ADDRESS_LINE_1\"])), axis = 1).map(str)\n",
    "    data[\"P2_ADDRESS_LINE_3\"]= data.apply(lambda row : encode(str(row[\"P2_ADDRESS_LINE_3\"])), axis = 1).map(str)\n",
    "    with open('model.pkl', 'rb') as in_strm:\n",
    "        model = dill.load(in_strm)\n",
    "    \n",
    "    pred = model.predict_proba(data)[:,1]\n",
    "    predictions = [round(value) for value in pred]\n",
    "    if 0 not in predictions:\n",
    "        noFamilyAssigned(firstName,lastName,addressLine1,addressLine2,addressLine3,city,state,zipCode)\n",
    "    else:\n",
    "        familyAssigned(firstName,lastName,addressLine1,addressLine2,addressLine3,city,state,zipCode,predictions.index(0))\n",
    "    return 0\n",
    "    \n",
    "    \n",
    "def familyAssigned(firstName,lastName,addressLine1,addressLine2,addressLine3,city,state,zipCode,index):\n",
    "    session = Session.builder.configs(snowflake_conn_prop).create()\n",
    "    raw = session.table(sour_table_name)\n",
    "    data= raw.toPandas()\n",
    "    \n",
    "    contact_id=str(int(data['CONTACT_ID'][len(data)-1])+1)\n",
    "    full_name=firstName+' '+lastName\n",
    "    session.sql('INSERT INTO '+ sour_table_name+' VALUES ('+ \n",
    "            contact_id+',\\''+full_name+'\\',\\''+firstName+'\\',\\'\\',\\''+lastName+'\\',\\''+\n",
    "            addressLine1+'\\',\\''+addressLine2+'\\',\\''+addressLine3+'\\',\\''+\n",
    "            city+'\\',\\''+state+'\\',\\''+zipCode+'\\',\\''+data['HOUSEHOLD_ID'][index]+'\\',\\'Y\\')').collect()\n",
    "    \n",
    "    \n",
    "    session.sql('UPDATE '+ sour_table_name+' SET HOUSEHOLDED_IND=\\'Y\\' where CONTACT_ID=\\''+data['CONTACT_ID'][index]+'\\'').collect()\n",
    "    \n",
    "    session.sql('INSERT INTO '+ dest_table_name+' VALUES ('+ \n",
    "                contact_id+',\\''+firstName+'\\',\\'\\',\\''+lastName+'\\',\\''+\n",
    "                addressLine1+'\\',\\''+addressLine2+'\\',\\''+addressLine3+'\\',\\''+\n",
    "                city+'\\',\\''+state+'\\',\\''+zipCode+'\\')').collect()\n",
    "    \n",
    "    return 0\n",
    "\n",
    "def noFamilyAssigned(firstName,lastName,addressLine1,addressLine2,addressLine3,city,state,zipCode):\n",
    "    session = Session.builder.configs(snowflake_conn_prop).create()\n",
    "    raw = session.table(sour_table_name)\n",
    "    data= raw.toPandas()\n",
    "    x=str(random.randrange(10000000, 100000000))\n",
    "    while x in data['HOUSEHOLD_ID']:\n",
    "        x=str(random.randrange(10000000, 100000000))\n",
    "    \n",
    "    contact_id=str(int(data['CONTACT_ID'][len(data)-1])+1)\n",
    "    full_name=firstName+' '+lastName\n",
    "    session.sql('INSERT INTO '+ sour_table_name+' VALUES ('+ \n",
    "            contact_id+',\\''+full_name+'\\',\\''+firstName+'\\',\\'\\',\\''+lastName+'\\',\\''+\n",
    "            addressLine1+'\\',\\''+addressLine2+'\\',\\''+addressLine3+'\\',\\''+\n",
    "            city+'\\',\\''+state+'\\',\\''+zipCode+'\\',\\''+x+'\\',\\'N\\')').collect()\n",
    "    \n",
    "    session.sql('INSERT INTO '+ dest_table_name+' VALUES ('+ \n",
    "                contact_id+',\\''+firstName+'\\',\\'\\',\\''+lastName+'\\',\\''+\n",
    "                addressLine1+'\\',\\''+addressLine2+'\\',\\''+addressLine3+'\\',\\''+\n",
    "                city+'\\',\\''+state+'\\',\\''+zipCode+'\\')').collect()\n",
    "    return 0\n",
    "\n",
    "def remove(contact_ID):\n",
    "    session = Session.builder.configs(snowflake_conn_prop).create()\n",
    "    session.sql('DELETE FROM '+ sour_table_name+' WHERE CONTACT_ID=\\''+contact_ID+'\\'').collect()\n",
    "    \n",
    "    session.sql('DELETE FROM '+ dest_table_name+' WHERE P1_CONTACT_ID=\\''+contact_ID+'\\'').collect()\n",
    "\n",
    "def update(contact_ID,firstName,lastName,addressLine1,addressLine2,addressLine3,city,state,zipCode):\n",
    "    session = Session.builder.configs(snowflake_conn_prop).create()\n",
    "    full_name=firstName+' '+lastName\n",
    "    session.sql('UPDATE '+ sour_table_name+' SET FULL_NAME=\\''+ \n",
    "        full_name+'\\',FIRST_NAME=\\''+firstName+'\\',LAST_NAME=\\''+lastName+'\\',ADDRESS_LINE_1=\\''+\n",
    "        addressLine1+'\\',ADDRESS_LINE_2=\\''+addressLine2+'\\',ADDRESS_LINE_3=\\''+addressLine3+'\\',CITY=\\''+\n",
    "        city+'\\',STATE=\\''+state+'\\',ZIP=\\''+zipCode+'\\' WHERE CONTACT_ID=\\''+contact_ID+'\\'').collect()\n",
    "    \n",
    "    session.sql('UPDATE '+ dest_table_name+' SET P1_FIRSTNAME=\\''+firstName+'\\',P1_LASTNAME=\\''+lastName+'\\',P1_ADDRESS_LINE_1=\\''+\n",
    "        addressLine1+'\\',P1_ADDRESS_LINE_2=\\''+addressLine2+'\\',P1_ADDRESS_LINE_3=\\''+addressLine3+'\\',P1_CITY=\\''+\n",
    "        city+'\\',P1_STATE=\\''+state+'\\',P1_ZIP=\\''+zipCode+'\\' WHERE P1_CONTACT_ID=\\''+contact_ID+'\\'').collect()\n",
    "    \n",
    "def find(contact_ID):\n",
    "    session = Session.builder.configs(snowflake_conn_prop).create()\n",
    "    raw = session.table(dest_table_name)\n",
    "\n",
    "    return [session.table(sour_table_name).toPandas().iloc[int(contact_ID)-1],\n",
    "            session.table(dest_table_name).toPandas().iloc[int(contact_ID)-1]]"
   ]
  },
  {
   "cell_type": "code",
   "execution_count": 2,
   "id": "fb9f0b40",
   "metadata": {},
   "outputs": [],
   "source": [
    "initialization()"
   ]
  },
  {
   "cell_type": "markdown",
   "id": "2ad05740",
   "metadata": {},
   "source": [
    "## Registrate a new user, with no existed household relationship"
   ]
  },
  {
   "cell_type": "code",
   "execution_count": 3,
   "id": "5897e100",
   "metadata": {},
   "outputs": [
    {
     "name": "stdout",
     "output_type": "stream",
     "text": [
      "[Row(CURRENT_WAREHOUSE()='WH_UWM', CURRENT_DATABASE()='UWM_HOUSEHOLDING', CURRENT_SCHEMA()='TEAM1_XURAN')]\n"
     ]
    },
    {
     "ename": "KeyError",
     "evalue": "-1",
     "output_type": "error",
     "traceback": [
      "\u001b[1;31m---------------------------------------------------------------------------\u001b[0m",
      "\u001b[1;31mValueError\u001b[0m                                Traceback (most recent call last)",
      "File \u001b[1;32m~\\anaconda3\\envs\\getting_started_snowpark_python\\lib\\site-packages\\pandas\\core\\indexes\\range.py:385\u001b[0m, in \u001b[0;36mRangeIndex.get_loc\u001b[1;34m(self, key, method, tolerance)\u001b[0m\n\u001b[0;32m    384\u001b[0m \u001b[38;5;28;01mtry\u001b[39;00m:\n\u001b[1;32m--> 385\u001b[0m     \u001b[38;5;28;01mreturn\u001b[39;00m \u001b[38;5;28;43mself\u001b[39;49m\u001b[38;5;241;43m.\u001b[39;49m\u001b[43m_range\u001b[49m\u001b[38;5;241;43m.\u001b[39;49m\u001b[43mindex\u001b[49m\u001b[43m(\u001b[49m\u001b[43mnew_key\u001b[49m\u001b[43m)\u001b[49m\n\u001b[0;32m    386\u001b[0m \u001b[38;5;28;01mexcept\u001b[39;00m \u001b[38;5;167;01mValueError\u001b[39;00m \u001b[38;5;28;01mas\u001b[39;00m err:\n",
      "\u001b[1;31mValueError\u001b[0m: -1 is not in range",
      "\nThe above exception was the direct cause of the following exception:\n",
      "\u001b[1;31mKeyError\u001b[0m                                  Traceback (most recent call last)",
      "Input \u001b[1;32mIn [3]\u001b[0m, in \u001b[0;36m<cell line: 1>\u001b[1;34m()\u001b[0m\n\u001b[1;32m----> 1\u001b[0m \u001b[43mregister\u001b[49m\u001b[43m(\u001b[49m\u001b[38;5;124;43m\"\u001b[39;49m\u001b[38;5;124;43mXuran\u001b[39;49m\u001b[38;5;124;43m\"\u001b[39;49m\u001b[43m,\u001b[49m\u001b[38;5;124;43m\"\u001b[39;49m\u001b[38;5;124;43mCai\u001b[39;49m\u001b[38;5;124;43m\"\u001b[39;49m\u001b[43m,\u001b[49m\u001b[38;5;124;43m\"\u001b[39;49m\u001b[38;5;124;43mW Johnson ST\u001b[39;49m\u001b[38;5;124;43m\"\u001b[39;49m\u001b[43m,\u001b[49m\u001b[38;5;124;43m\"\u001b[39;49m\u001b[38;5;124;43m\"\u001b[39;49m\u001b[43m,\u001b[49m\u001b[38;5;124;43m\"\u001b[39;49m\u001b[38;5;124;43mMadison WI 53715\u001b[39;49m\u001b[38;5;124;43m\"\u001b[39;49m\u001b[43m,\u001b[49m\u001b[38;5;124;43m\"\u001b[39;49m\u001b[38;5;124;43mMadison\u001b[39;49m\u001b[38;5;124;43m\"\u001b[39;49m\u001b[43m,\u001b[49m\u001b[38;5;124;43m\"\u001b[39;49m\u001b[38;5;124;43mWI\u001b[39;49m\u001b[38;5;124;43m\"\u001b[39;49m\u001b[43m,\u001b[49m\u001b[38;5;124;43m\"\u001b[39;49m\u001b[38;5;124;43m53715\u001b[39;49m\u001b[38;5;124;43m\"\u001b[39;49m\u001b[43m)\u001b[49m\n\u001b[0;32m      3\u001b[0m session \u001b[38;5;241m=\u001b[39m Session\u001b[38;5;241m.\u001b[39mbuilder\u001b[38;5;241m.\u001b[39mconfigs(snowflake_conn_prop)\u001b[38;5;241m.\u001b[39mcreate()\n\u001b[0;32m      4\u001b[0m \u001b[38;5;28mprint\u001b[39m(session\u001b[38;5;241m.\u001b[39msql(\u001b[38;5;124m'\u001b[39m\u001b[38;5;124mselect current_warehouse(), current_database(), current_schema()\u001b[39m\u001b[38;5;124m'\u001b[39m)\u001b[38;5;241m.\u001b[39mcollect())\n",
      "Input \u001b[1;32mIn [1]\u001b[0m, in \u001b[0;36mregister\u001b[1;34m(firstName, lastName, addressLine1, addressLine2, addressLine3, city, state, zipCode)\u001b[0m\n\u001b[0;32m     88\u001b[0m predictions \u001b[38;5;241m=\u001b[39m [\u001b[38;5;28mround\u001b[39m(value) \u001b[38;5;28;01mfor\u001b[39;00m value \u001b[38;5;129;01min\u001b[39;00m pred]\n\u001b[0;32m     89\u001b[0m \u001b[38;5;28;01mif\u001b[39;00m \u001b[38;5;241m0\u001b[39m \u001b[38;5;129;01mnot\u001b[39;00m \u001b[38;5;129;01min\u001b[39;00m predictions:\n\u001b[1;32m---> 90\u001b[0m     \u001b[43mnoFamilyAssigned\u001b[49m\u001b[43m(\u001b[49m\u001b[43mfirstName\u001b[49m\u001b[43m,\u001b[49m\u001b[43mlastName\u001b[49m\u001b[43m,\u001b[49m\u001b[43maddressLine1\u001b[49m\u001b[43m,\u001b[49m\u001b[43maddressLine2\u001b[49m\u001b[43m,\u001b[49m\u001b[43maddressLine3\u001b[49m\u001b[43m,\u001b[49m\u001b[43mcity\u001b[49m\u001b[43m,\u001b[49m\u001b[43mstate\u001b[49m\u001b[43m,\u001b[49m\u001b[43mzipCode\u001b[49m\u001b[43m)\u001b[49m\n\u001b[0;32m     91\u001b[0m \u001b[38;5;28;01melse\u001b[39;00m:\n\u001b[0;32m     92\u001b[0m     familyAssigned(firstName,lastName,addressLine1,addressLine2,addressLine3,city,state,zipCode,predictions\u001b[38;5;241m.\u001b[39mindex(\u001b[38;5;241m0\u001b[39m))\n",
      "Input \u001b[1;32mIn [1]\u001b[0m, in \u001b[0;36mnoFamilyAssigned\u001b[1;34m(firstName, lastName, addressLine1, addressLine2, addressLine3, city, state, zipCode)\u001b[0m\n\u001b[0;32m    123\u001b[0m \u001b[38;5;28;01mwhile\u001b[39;00m x \u001b[38;5;129;01min\u001b[39;00m data[\u001b[38;5;124m'\u001b[39m\u001b[38;5;124mHOUSEHOLD_ID\u001b[39m\u001b[38;5;124m'\u001b[39m]:\n\u001b[0;32m    124\u001b[0m     x\u001b[38;5;241m=\u001b[39m\u001b[38;5;28mstr\u001b[39m(random\u001b[38;5;241m.\u001b[39mrandrange(\u001b[38;5;241m10000000\u001b[39m, \u001b[38;5;241m100000000\u001b[39m))\n\u001b[1;32m--> 126\u001b[0m contact_id\u001b[38;5;241m=\u001b[39m\u001b[38;5;28mstr\u001b[39m(\u001b[38;5;28mint\u001b[39m(\u001b[43mdata\u001b[49m\u001b[43m[\u001b[49m\u001b[38;5;124;43m'\u001b[39;49m\u001b[38;5;124;43mCONTACT_ID\u001b[39;49m\u001b[38;5;124;43m'\u001b[39;49m\u001b[43m]\u001b[49m\u001b[43m[\u001b[49m\u001b[38;5;241;43m-\u001b[39;49m\u001b[38;5;241;43m1\u001b[39;49m\u001b[43m]\u001b[49m)\u001b[38;5;241m+\u001b[39m\u001b[38;5;241m1\u001b[39m)\n\u001b[0;32m    127\u001b[0m full_name\u001b[38;5;241m=\u001b[39mfirstName\u001b[38;5;241m+\u001b[39m\u001b[38;5;124m'\u001b[39m\u001b[38;5;124m \u001b[39m\u001b[38;5;124m'\u001b[39m\u001b[38;5;241m+\u001b[39mlastName\n\u001b[0;32m    128\u001b[0m session\u001b[38;5;241m.\u001b[39msql(\u001b[38;5;124m'\u001b[39m\u001b[38;5;124mINSERT INTO \u001b[39m\u001b[38;5;124m'\u001b[39m\u001b[38;5;241m+\u001b[39m sour_table_name\u001b[38;5;241m+\u001b[39m\u001b[38;5;124m'\u001b[39m\u001b[38;5;124m VALUES (\u001b[39m\u001b[38;5;124m'\u001b[39m\u001b[38;5;241m+\u001b[39m \n\u001b[0;32m    129\u001b[0m         contact_id\u001b[38;5;241m+\u001b[39m\u001b[38;5;124m'\u001b[39m\u001b[38;5;124m,\u001b[39m\u001b[38;5;130;01m\\'\u001b[39;00m\u001b[38;5;124m'\u001b[39m\u001b[38;5;241m+\u001b[39mfull_name\u001b[38;5;241m+\u001b[39m\u001b[38;5;124m'\u001b[39m\u001b[38;5;130;01m\\'\u001b[39;00m\u001b[38;5;124m,\u001b[39m\u001b[38;5;130;01m\\'\u001b[39;00m\u001b[38;5;124m'\u001b[39m\u001b[38;5;241m+\u001b[39mfirstName\u001b[38;5;241m+\u001b[39m\u001b[38;5;124m'\u001b[39m\u001b[38;5;130;01m\\'\u001b[39;00m\u001b[38;5;124m,\u001b[39m\u001b[38;5;130;01m\\'\u001b[39;00m\u001b[38;5;130;01m\\'\u001b[39;00m\u001b[38;5;124m,\u001b[39m\u001b[38;5;130;01m\\'\u001b[39;00m\u001b[38;5;124m'\u001b[39m\u001b[38;5;241m+\u001b[39mlastName\u001b[38;5;241m+\u001b[39m\u001b[38;5;124m'\u001b[39m\u001b[38;5;130;01m\\'\u001b[39;00m\u001b[38;5;124m,\u001b[39m\u001b[38;5;130;01m\\'\u001b[39;00m\u001b[38;5;124m'\u001b[39m\u001b[38;5;241m+\u001b[39m\n\u001b[0;32m    130\u001b[0m         addressLine1\u001b[38;5;241m+\u001b[39m\u001b[38;5;124m'\u001b[39m\u001b[38;5;130;01m\\'\u001b[39;00m\u001b[38;5;124m,\u001b[39m\u001b[38;5;130;01m\\'\u001b[39;00m\u001b[38;5;124m'\u001b[39m\u001b[38;5;241m+\u001b[39maddressLine2\u001b[38;5;241m+\u001b[39m\u001b[38;5;124m'\u001b[39m\u001b[38;5;130;01m\\'\u001b[39;00m\u001b[38;5;124m,\u001b[39m\u001b[38;5;130;01m\\'\u001b[39;00m\u001b[38;5;124m'\u001b[39m\u001b[38;5;241m+\u001b[39maddressLine3\u001b[38;5;241m+\u001b[39m\u001b[38;5;124m'\u001b[39m\u001b[38;5;130;01m\\'\u001b[39;00m\u001b[38;5;124m,\u001b[39m\u001b[38;5;130;01m\\'\u001b[39;00m\u001b[38;5;124m'\u001b[39m\u001b[38;5;241m+\u001b[39m\n\u001b[0;32m    131\u001b[0m         city\u001b[38;5;241m+\u001b[39m\u001b[38;5;124m'\u001b[39m\u001b[38;5;130;01m\\'\u001b[39;00m\u001b[38;5;124m,\u001b[39m\u001b[38;5;130;01m\\'\u001b[39;00m\u001b[38;5;124m'\u001b[39m\u001b[38;5;241m+\u001b[39mstate\u001b[38;5;241m+\u001b[39m\u001b[38;5;124m'\u001b[39m\u001b[38;5;130;01m\\'\u001b[39;00m\u001b[38;5;124m,\u001b[39m\u001b[38;5;130;01m\\'\u001b[39;00m\u001b[38;5;124m'\u001b[39m\u001b[38;5;241m+\u001b[39mzipCode\u001b[38;5;241m+\u001b[39m\u001b[38;5;124m'\u001b[39m\u001b[38;5;130;01m\\'\u001b[39;00m\u001b[38;5;124m,\u001b[39m\u001b[38;5;130;01m\\'\u001b[39;00m\u001b[38;5;124m'\u001b[39m\u001b[38;5;241m+\u001b[39mx\u001b[38;5;241m+\u001b[39m\u001b[38;5;124m'\u001b[39m\u001b[38;5;130;01m\\'\u001b[39;00m\u001b[38;5;124m,\u001b[39m\u001b[38;5;130;01m\\'\u001b[39;00m\u001b[38;5;124mN\u001b[39m\u001b[38;5;130;01m\\'\u001b[39;00m\u001b[38;5;124m)\u001b[39m\u001b[38;5;124m'\u001b[39m)\u001b[38;5;241m.\u001b[39mcollect()\n",
      "File \u001b[1;32m~\\anaconda3\\envs\\getting_started_snowpark_python\\lib\\site-packages\\pandas\\core\\series.py:958\u001b[0m, in \u001b[0;36mSeries.__getitem__\u001b[1;34m(self, key)\u001b[0m\n\u001b[0;32m    955\u001b[0m     \u001b[38;5;28;01mreturn\u001b[39;00m \u001b[38;5;28mself\u001b[39m\u001b[38;5;241m.\u001b[39m_values[key]\n\u001b[0;32m    957\u001b[0m \u001b[38;5;28;01melif\u001b[39;00m key_is_scalar:\n\u001b[1;32m--> 958\u001b[0m     \u001b[38;5;28;01mreturn\u001b[39;00m \u001b[38;5;28;43mself\u001b[39;49m\u001b[38;5;241;43m.\u001b[39;49m\u001b[43m_get_value\u001b[49m\u001b[43m(\u001b[49m\u001b[43mkey\u001b[49m\u001b[43m)\u001b[49m\n\u001b[0;32m    960\u001b[0m \u001b[38;5;28;01mif\u001b[39;00m is_hashable(key):\n\u001b[0;32m    961\u001b[0m     \u001b[38;5;66;03m# Otherwise index.get_value will raise InvalidIndexError\u001b[39;00m\n\u001b[0;32m    962\u001b[0m     \u001b[38;5;28;01mtry\u001b[39;00m:\n\u001b[0;32m    963\u001b[0m         \u001b[38;5;66;03m# For labels that don't resolve as scalars like tuples and frozensets\u001b[39;00m\n",
      "File \u001b[1;32m~\\anaconda3\\envs\\getting_started_snowpark_python\\lib\\site-packages\\pandas\\core\\series.py:1069\u001b[0m, in \u001b[0;36mSeries._get_value\u001b[1;34m(self, label, takeable)\u001b[0m\n\u001b[0;32m   1066\u001b[0m     \u001b[38;5;28;01mreturn\u001b[39;00m \u001b[38;5;28mself\u001b[39m\u001b[38;5;241m.\u001b[39m_values[label]\n\u001b[0;32m   1068\u001b[0m \u001b[38;5;66;03m# Similar to Index.get_value, but we do not fall back to positional\u001b[39;00m\n\u001b[1;32m-> 1069\u001b[0m loc \u001b[38;5;241m=\u001b[39m \u001b[38;5;28;43mself\u001b[39;49m\u001b[38;5;241;43m.\u001b[39;49m\u001b[43mindex\u001b[49m\u001b[38;5;241;43m.\u001b[39;49m\u001b[43mget_loc\u001b[49m\u001b[43m(\u001b[49m\u001b[43mlabel\u001b[49m\u001b[43m)\u001b[49m\n\u001b[0;32m   1070\u001b[0m \u001b[38;5;28;01mreturn\u001b[39;00m \u001b[38;5;28mself\u001b[39m\u001b[38;5;241m.\u001b[39mindex\u001b[38;5;241m.\u001b[39m_get_values_for_loc(\u001b[38;5;28mself\u001b[39m, loc, label)\n",
      "File \u001b[1;32m~\\anaconda3\\envs\\getting_started_snowpark_python\\lib\\site-packages\\pandas\\core\\indexes\\range.py:387\u001b[0m, in \u001b[0;36mRangeIndex.get_loc\u001b[1;34m(self, key, method, tolerance)\u001b[0m\n\u001b[0;32m    385\u001b[0m         \u001b[38;5;28;01mreturn\u001b[39;00m \u001b[38;5;28mself\u001b[39m\u001b[38;5;241m.\u001b[39m_range\u001b[38;5;241m.\u001b[39mindex(new_key)\n\u001b[0;32m    386\u001b[0m     \u001b[38;5;28;01mexcept\u001b[39;00m \u001b[38;5;167;01mValueError\u001b[39;00m \u001b[38;5;28;01mas\u001b[39;00m err:\n\u001b[1;32m--> 387\u001b[0m         \u001b[38;5;28;01mraise\u001b[39;00m \u001b[38;5;167;01mKeyError\u001b[39;00m(key) \u001b[38;5;28;01mfrom\u001b[39;00m \u001b[38;5;21;01merr\u001b[39;00m\n\u001b[0;32m    388\u001b[0m \u001b[38;5;28mself\u001b[39m\u001b[38;5;241m.\u001b[39m_check_indexing_error(key)\n\u001b[0;32m    389\u001b[0m \u001b[38;5;28;01mraise\u001b[39;00m \u001b[38;5;167;01mKeyError\u001b[39;00m(key)\n",
      "\u001b[1;31mKeyError\u001b[0m: -1"
     ]
    }
   ],
   "source": [
    "register(\"Xuran\",\"Cai\",\"W Johnson ST\",\"\",\"Madison WI 53715\",\"Madison\",\"WI\",\"53715\")\n",
    "\n",
    "session = Session.builder.configs(snowflake_conn_prop).create()\n",
    "print(session.sql('select current_warehouse(), current_database(), current_schema()').collect())\n",
    "raw = session.table(sour_table_name)\n",
    "data=raw.toPandas()\n",
    "data.tail(1)"
   ]
  },
  {
   "cell_type": "code",
   "execution_count": null,
   "id": "edb32b02",
   "metadata": {},
   "outputs": [],
   "source": [
    "session = Session.builder.configs(snowflake_conn_prop).create()\n",
    "print(session.sql('select current_warehouse(), current_database(), current_schema()').collect())\n",
    "raw = session.table(dest_table_name)\n",
    "data=raw.toPandas()\n",
    "data.tail(1)"
   ]
  },
  {
   "cell_type": "markdown",
   "id": "7d7c5f1c",
   "metadata": {},
   "source": [
    "# Registrate an existing user(without household relationship) again, it should now form household with himself/herself"
   ]
  },
  {
   "cell_type": "code",
   "execution_count": null,
   "id": "6eeee175",
   "metadata": {},
   "outputs": [],
   "source": [
    "#register(\"Xuran\",\"Cai\",\"W Johnson ST\",\"\",\"Madison WI 53715\",\"Madison\",\"WI\",\"53715\")\n",
    "register(\"Claire1\",\"Walls\",\"1031189 Metus St\",\"\",\"Eugene MD 22207\",\"Eugene\",\"MD\",\"22207\")\n",
    "session = Session.builder.configs(snowflake_conn_prop).create()\n",
    "print(session.sql('select current_warehouse(), current_database(), current_schema()').collect())\n",
    "raw = session.table('XURAN_TABLE')\n",
    "data=raw.toPandas()\n",
    "#data.tail(3)\n",
    "data.tail(2)"
   ]
  },
  {
   "cell_type": "code",
   "execution_count": null,
   "id": "21139bdb",
   "metadata": {},
   "outputs": [],
   "source": [
    "data.head(1)"
   ]
  },
  {
   "cell_type": "code",
   "execution_count": null,
   "id": "8f53b2c1",
   "metadata": {},
   "outputs": [],
   "source": [
    "session = Session.builder.configs(snowflake_conn_prop).create()\n",
    "print(session.sql('select current_warehouse(), current_database(), current_schema()').collect())\n",
    "raw = session.table(dest_table_name)\n",
    "data=raw.toPandas()\n",
    "data.tail(3)"
   ]
  },
  {
   "cell_type": "code",
   "execution_count": null,
   "id": "eec4d28a",
   "metadata": {},
   "outputs": [],
   "source": [
    "data.head(1)"
   ]
  },
  {
   "cell_type": "markdown",
   "id": "3b41abb1",
   "metadata": {},
   "source": [
    "# Update one existing user; its data should be change accordingly"
   ]
  },
  {
   "cell_type": "code",
   "execution_count": null,
   "id": "5d1f7615",
   "metadata": {},
   "outputs": [],
   "source": [
    "update(\"1\",\"Claire1\",\"Walls\",\"1031189 Metus St\",\"\",\"Eugene MD 22207\",\"Eugene\",\"MD\",\"22207\")\n",
    "session = Session.builder.configs(snowflake_conn_prop).create()\n",
    "print(session.sql('select current_warehouse(), current_database(), current_schema()').collect())\n",
    "raw = session.table(sour_table_name)\n",
    "data=raw.toPandas()\n",
    "data.head(1)"
   ]
  },
  {
   "cell_type": "code",
   "execution_count": null,
   "id": "b1648ad6",
   "metadata": {},
   "outputs": [],
   "source": [
    "session = Session.builder.configs(snowflake_conn_prop).create()\n",
    "print(session.sql('select current_warehouse(), current_database(), current_schema()').collect())\n",
    "raw = session.table(dest_table_name)\n",
    "data=raw.toPandas()\n",
    "data.head(1)"
   ]
  },
  {
   "cell_type": "markdown",
   "id": "1b29ffed",
   "metadata": {},
   "source": [
    "# Removing a user; we just remove the account but not existing hoursehold relationship"
   ]
  },
  {
   "cell_type": "code",
   "execution_count": null,
   "id": "29144acc",
   "metadata": {},
   "outputs": [],
   "source": [
    "remove(\"1\")\n",
    "session = Session.builder.configs(snowflake_conn_prop).create()\n",
    "print(session.sql('select current_warehouse(), current_database(), current_schema()').collect())\n",
    "raw = session.table(sour_table_name)\n",
    "data=raw.toPandas()\n",
    "data.head(1)"
   ]
  },
  {
   "cell_type": "code",
   "execution_count": null,
   "id": "86a481ea",
   "metadata": {},
   "outputs": [],
   "source": [
    "data.tail(1)"
   ]
  },
  {
   "cell_type": "code",
   "execution_count": null,
   "id": "01f151b6",
   "metadata": {},
   "outputs": [],
   "source": [
    "session = Session.builder.configs(snowflake_conn_prop).create()\n",
    "print(session.sql('select current_warehouse(), current_database(), current_schema()').collect())\n",
    "raw = session.table(dest_table_name)\n",
    "data=raw.toPandas()\n",
    "data.head(1)"
   ]
  },
  {
   "cell_type": "code",
   "execution_count": null,
   "id": "745f3996",
   "metadata": {},
   "outputs": [],
   "source": [
    "data.tail(1)"
   ]
  },
  {
   "cell_type": "markdown",
   "id": "8bd9e6d5",
   "metadata": {},
   "source": [
    "# Find a user with contact ID"
   ]
  },
  {
   "cell_type": "code",
   "execution_count": null,
   "id": "bbc21a5d",
   "metadata": {},
   "outputs": [],
   "source": [
    "find(\"1\")"
   ]
  },
  {
   "cell_type": "code",
   "execution_count": null,
   "id": "5085a10c",
   "metadata": {},
   "outputs": [],
   "source": []
  }
 ],
 "metadata": {
  "kernelspec": {
   "display_name": "Python 3 (ipykernel)",
   "language": "python",
   "name": "python3"
  },
  "language_info": {
   "codemirror_mode": {
    "name": "ipython",
    "version": 3
   },
   "file_extension": ".py",
   "mimetype": "text/x-python",
   "name": "python",
   "nbconvert_exporter": "python",
   "pygments_lexer": "ipython3",
   "version": "3.8.13"
  }
 },
 "nbformat": 4,
 "nbformat_minor": 5
}
